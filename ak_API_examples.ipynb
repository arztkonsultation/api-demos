{
  "cells": [
    {
      "cell_type": "markdown",
      "metadata": {
        "id": "x0V5tCEHrowE"
      },
      "source": [
        "# Introduction\n",
        "\n",
        "Welcome to our code examples for the API! These examples show how to use different API endpoints to retrieve data, create calls and reserve time slots.\n",
        "\n",
        "You can find the latest API documentation at: [ak API Documentation - Doctor Consultation ](https://arztkonsultation.de/ak-api-dokumentation/)\n",
        "\n",
        "\n",
        "**Please note that you may need to customise the API URL."
      ]
    },
    {
      "cell_type": "markdown",
      "source": [
        "## How do I use the Jupyter Notebook?\n",
        "\n",
        "You can copy the ipynb file or run it directly in Google Colab.\n",
        "\n",
        "You can then either\n",
        "\n",
        "1. adapt the code so that you enter the e-mail address and password of the user who is to execute the API calls in the first commented-out section. You can then ignore the code in the second section ‘Authentication via config.ini’\n",
        "\n",
        "or\n",
        "\n",
        "2. create a config.ini file, enter the user's access data and save the file in Google Drive. You may need to change the path in the code\n",
        "\n",
        "\n",
        "Please be aware that you should change the hostname to the URL we've provided, so that you can use the code examples properly."
      ],
      "metadata": {
        "id": "sfCH0uBkNriG"
      }
    },
    {
      "cell_type": "markdown",
      "source": [
        "## Good to know\n",
        "\n",
        "You can find our API documentation on this page: https://arztkonsultation.de/ak-api-dokumentation/. We have multiple APIs. You probably mostly use the APIv2 (aka User API) and the Client API.\n",
        "\n",
        "If you use the APIv2 you need to authenticate with a users email-adress and password to receive a Baerer token. Usually we recommend to use an general admin account / system account to communcate with our api.  \n",
        "\n",
        "If you use the Client API you need a Client-ID and a password for authentication. If you don't have these data please concat us.\n"
      ],
      "metadata": {
        "id": "BtmRK9ZkakhY"
      }
    },
    {
      "cell_type": "markdown",
      "metadata": {
        "id": "2qT0aLRPr691"
      },
      "source": [
        "# Authentication and token retrieval\n",
        "\n"
      ]
    },
    {
      "cell_type": "markdown",
      "source": [
        "## APIv2\n",
        "\n",
        "First, a user must authenticate themselves via email address and password (e.g. the admin user) in order to receive a token for subsequent API calls.\n",
        "\n",
        "The following example sends a POST request for authentication and returns the access token.\n",
        "\n"
      ],
      "metadata": {
        "id": "B9oNpotNb9dO"
      }
    },
    {
      "cell_type": "code",
      "source": [
        "#Authentication via email and password\n",
        "\n",
        "\n",
        "#email=\"Email address of the user who is to make the API call (e.g. doctor or admin)\"\n",
        "#password=\"Password of the account\""
      ],
      "metadata": {
        "id": "XiIhu-zxOycz"
      },
      "execution_count": null,
      "outputs": []
    },
    {
      "cell_type": "code",
      "execution_count": null,
      "metadata": {
        "colab": {
          "base_uri": "https://localhost:8080/"
        },
        "id": "byjmUm_89pYo",
        "outputId": "06b7bad7-8bfc-4955-e067-bc748bc3c4e6"
      },
      "outputs": [
        {
          "output_type": "stream",
          "name": "stdout",
          "text": [
            "Mounted at /content/drive\n"
          ]
        }
      ],
      "source": [
        "# Authentication via config.ini\n",
        "import os\n",
        "from configparser import ConfigParser\n",
        "from google.colab import drive\n",
        "\n",
        "# Mount Google Drive\n",
        "drive.mount(\"/content/drive\")\n",
        "\n",
        "# The path to the config.ini file\n",
        "config_file_path = \"/content/drive/MyDrive/Colab Notebooks/config.ini\"\n",
        "\n",
        "# Ensure that the file exists\n",
        "if not os.path.exists(config_file_path):\n",
        "    raise FileNotFoundError(f\"The file {config_file_path} was not found\")\n",
        "\n",
        "# Initialise ConfigParser and read the file\n",
        "config = ConfigParser()\n",
        "config.read(config_file_path)\n",
        "\n",
        "# Read access data\n",
        "email = config[\"credentials\"][\"email\"]\n",
        "password = config[\"credentials\"][\"password\"]\n"
      ]
    },
    {
      "cell_type": "code",
      "execution_count": null,
      "metadata": {
        "id": "WqFHlbG78AJB"
      },
      "outputs": [],
      "source": [
        "# @title\n",
        "import requests\n",
        "\n",
        "#Change hostname!\n",
        "hostname='app-sandbox.arztkonsultation.de'\n",
        "\n",
        "def fetch(method, path, data=None, token=None):\n",
        "    url = f'https://{hostname}{path}'\n",
        "    headers = {\n",
        "        'Content-Type': 'application/json',\n",
        "        'Accept': 'application/json'\n",
        "    }\n",
        "    if token:\n",
        "        headers['Authorization'] = f'Bearer {token}'\n",
        "\n",
        "    response = requests.request(method, url, json=data, headers=headers)\n",
        "\n",
        "    if response.status_code >= 400:\n",
        "        raise Exception(f'Request failed with status code {response.status_code}: {response.text}')\n",
        "\n",
        "    return response.json()\n",
        "\n",
        "def login():\n",
        "    c = {'email': email, 'password': password}\n",
        "    result = fetch('POST', '/api/v2/auth', c)\n",
        "    return result['access_token']\n",
        "\n",
        "token = login()\n"
      ]
    },
    {
      "cell_type": "markdown",
      "source": [
        "## Client API\n",
        "\n"
      ],
      "metadata": {
        "id": "gYuqQGdocWpL"
      }
    },
    {
      "cell_type": "code",
      "source": [
        "# Authentication via client ID and password\n",
        "\n",
        "client_id = 'your_client_id'  # Replace this with your client ID\n",
        "pw = 'your_password'           # Replace this with your password\n",
        "\n",
        "# @title\n",
        "import requests\n",
        "\n",
        "# Change Hostname!\n",
        "hostname = 'app-sandbox.arztkonsultation.de'\n",
        "\n",
        "def fetch(method, path, data=None, token=None):\n",
        "    url = f'https://{hostname}{path}'\n",
        "    headers = {\n",
        "        'Content-Type': 'application/json',\n",
        "        'Accept': 'application/json'\n",
        "    }\n",
        "    if token:\n",
        "        headers['Authorization'] = f'Bearer {token}'\n",
        "\n",
        "    response = requests.request(method, url, json=data, headers=headers)\n",
        "\n",
        "    if response.status_code >= 400:\n",
        "        raise Exception(f'Request failed with status code {response.status_code}: {response.text}')\n",
        "\n",
        "    return response.json()\n",
        "\n",
        "def login():\n",
        "    c = {'client_id': client_id, 'pw': pw}\n",
        "    result = fetch('POST', '/api/v2/client', c)\n",
        "    return result['access_token']\n",
        "\n",
        "token = login()\n",
        "print(\"Access Token:\", token)\n"
      ],
      "metadata": {
        "id": "ZdqqNPa9fAsJ"
      },
      "execution_count": null,
      "outputs": []
    },
    {
      "cell_type": "markdown",
      "source": [
        "# Users\n",
        "\n",
        "Link to API-Doc: https://arztkonsultation.de/wp-content/uploads/2024/10/2024-10-01-ak-APIv2-Dokumentation.html#tag/Users"
      ],
      "metadata": {
        "id": "_qtL8D3AciWH"
      }
    },
    {
      "cell_type": "markdown",
      "metadata": {
        "id": "jPjw4uXatdbP"
      },
      "source": [
        "## Create user with the role ‘Doctor’\n",
        "\n",
        "The script creates a user account with the role ‘Doctor’.\n",
        "\n",
        "\n",
        "The user roles can be viewed here: https://arztkonsultation.de/wp-content/uploads/2024/05/2024-05-15-ak-APIv2-Dokumentation.html#section/Introduction/Roles"
      ]
    },
    {
      "cell_type": "markdown",
      "source": [
        "### Without notifications\n",
        "\n",
        "A user with the role ‘Doctor’ is created and all e-mail & SMS notifications are deactivated."
      ],
      "metadata": {
        "id": "N7gOP2NdDlw9"
      }
    },
    {
      "cell_type": "code",
      "execution_count": null,
      "metadata": {
        "id": "fDUQKXFyAUUQ"
      },
      "outputs": [],
      "source": [
        "def create_user(token, name, email, pw):\n",
        "    companies = fetch('GET', '/api/v2/companies', token=token)\n",
        "    company_id = companies['data'][0]['id']\n",
        "    user_data = {\n",
        "        \"name\": name,\n",
        "        \"email\": email,\n",
        "        \"password\": pw,\n",
        "        \"company_id\": company_id,\n",
        "        \"roles\": [2],\n",
        "        \"notification_options\": [\n",
        "            {\n",
        "              \"notification_id\": 1001, #Notificattion via E-Mail\n",
        "              \"enabled\": False,\n",
        "            },\n",
        "            {\n",
        "              \"notification_id\": 1002, #Notification via SMS\n",
        "              \"enabled\": False,\n",
        "            },\n",
        "                ],\n",
        "\n",
        "            }\n",
        "    user = fetch('POST', '/api/v2/users', user_data, token=token)\n",
        "    return user['data']\n"
      ]
    },
    {
      "cell_type": "code",
      "execution_count": null,
      "metadata": {
        "id": "lVU3e-6NAdb5"
      },
      "outputs": [],
      "source": [
        "user=create_user(token, \"Arzt5 Code-Beispiele\", \"arzt5-ak-code-beispiele@arztkonsultation.de\", \"arzt5-ak-code-beispiele@arztkonsultation.de\")\n",
        "user"
      ]
    },
    {
      "cell_type": "markdown",
      "source": [
        "### With notifications\n",
        "\n",
        "A user with the role ‘Doctor’ is created. The user receives notifications by e-mail when an appointment is created, changed or deleted. All other notifications have been deactivated in this example."
      ],
      "metadata": {
        "id": "N_FdGPcNDvTG"
      }
    },
    {
      "cell_type": "code",
      "source": [
        "def create_user(token, name, email, pw):\n",
        "    companies = fetch('GET', '/api/v2/companies', token=token)\n",
        "    company_id = companies['data'][0]['id']\n",
        "    user_data = {\n",
        "        \"name\": name,\n",
        "        \"email\": email,\n",
        "        \"password\": pw,\n",
        "        \"company_id\": company_id,\n",
        "        \"roles\": [2],\n",
        "        \"notification_options\": [\n",
        "            {\n",
        "                \"notification_id\": 1001, #Notification by e-mail. Additional e-mail addresses can be stored to which a notification is to be sent, e.g. ‘value’: [‘test@em.ail’, ‘test2@andere.email’,],\n",
        "                \"enabled\": True,\n",
        "            },\n",
        "            {\n",
        "               \"notification_id\": 1002, #Notification by SMS. Additional telephone numbers can be stored to which a notification is to be sent, e.g. ‘value’: [‘+4912345679’,],\n",
        "                \"enabled\": False,\n",
        "            },\n",
        "            {\n",
        "                \"notification_id\": 2001, #Appointment created\n",
        "                \"enabled\": True,\n",
        "             },\n",
        "             {\n",
        "                \"notification_id\": 2002, #Appointment changed\n",
        "                \"enabled\": True,\n",
        "             },\n",
        "             {\n",
        "                \"notification_id\": 2003, ##Appointment deleted\n",
        "                \"enabled\": True,\n",
        "             },\n",
        "             {\n",
        "                \"notification_id\": 3001, #Document received\n",
        "                \"enabled\": False,\n",
        "             },\n",
        "             {\n",
        "                \"notification_id\": 3002, #Document sent\n",
        "                \"enabled\": False,\n",
        "             },\n",
        "             {\n",
        "                \"notification_id\": 3003, #Document deleted\n",
        "                \"enabled\": False,\n",
        "             },\n",
        "             {\n",
        "               \"notification_id\": 3004, #Document expires\n",
        "                \"enabled\": False,\n",
        "             },\n",
        "             {\n",
        "               \"notification_id\": 4001, #Invalid email of the patient\n",
        "                \"enabled\": False,\n",
        "             },\n",
        "                ],\n",
        "\n",
        "            }\n",
        "    user = fetch('POST', '/api/v2/users', user_data, token=token)\n",
        "    return user['data']"
      ],
      "metadata": {
        "id": "nBKcX5klD1a5"
      },
      "execution_count": null,
      "outputs": []
    },
    {
      "cell_type": "code",
      "source": [
        "user=create_user(token, \"Arzt5 Code-Beispiele\", \"arzt5-ak-code-beispiele@arztkonsultation.de\", \"arzt5-ak-code-beispiele@arztkonsultation.de\")\n",
        "user"
      ],
      "metadata": {
        "id": "WfNAafcxD4pt"
      },
      "execution_count": null,
      "outputs": []
    },
    {
      "cell_type": "markdown",
      "metadata": {
        "id": "BLFqdBWWZpUW"
      },
      "source": [
        "## List users\n",
        "\n",
        "This example retrieves all users and displays the user ID, name and company ID.\n",
        "\n",
        "Link to API-Doc:https://arztkonsultation.de/wp-content/uploads/2024/10/2024-10-01-ak-APIv2-Dokumentation.html#tag/Users/operation/User_index\n",
        "\n"
      ]
    },
    {
      "cell_type": "code",
      "source": [
        "def getAllUsers(token):\n",
        "    response = fetch('GET', '/api/v2/users?per_page=100', token=token)\n",
        "\n",
        "    if 'data' in response and isinstance(response['data'], list):\n",
        "        users = response['data']\n",
        "    else:\n",
        "        print(\"Error: Invalid API response\")\n",
        "        return []\n",
        "\n",
        "    user_data = []\n",
        "    for user in users:\n",
        "        role_name = user['roles'][0]['name'] if 'roles' in user and len(user['roles']) > 0 else ''\n",
        "        user_data.append([\n",
        "            user.get('id', ''),\n",
        "            user.get('title', ''),\n",
        "            user.get('name', ''),\n",
        "            user.get('company_id', ''),\n",
        "            user.get('company_name', ''),\n",
        "            user.get('ousubsidiary_name', ''),\n",
        "            user.get('oulocation_name', ''),\n",
        "            user.get('department_name', ''),\n",
        "            role_name\n",
        "        ])\n",
        "\n",
        "    return user_data\n",
        "\n",
        "# Call the function to retrieve the user information\n",
        "users_data = getAllUsers(token)\n",
        "\n",
        "# Table formatting with tabulate\n",
        "headers = ['ID', 'Title', 'Display Name', 'Company', 'Company Name', 'Ousubsidiary Name', 'Oulocation Name', 'Department Name', 'Role']\n",
        "print(tabulate(users_data, headers=headers, tablefmt='grid'))"
      ],
      "metadata": {
        "id": "aL7zhjAzdi-G"
      },
      "execution_count": null,
      "outputs": []
    },
    {
      "cell_type": "markdown",
      "metadata": {
        "id": "fnHaJLmDUrsS"
      },
      "source": [
        "# Calls\n",
        "\n",
        "Link to API-Doc: https://arztkonsultation.de/wp-content/uploads/2024/10/2024-10-01-ak-APIv2-Dokumentation.html#tag/Calls"
      ]
    },
    {
      "cell_type": "markdown",
      "source": [
        "## Create Calls\n",
        "\n",
        "In the following example, the admin account creates a video call with different scenarios and participants.\n",
        "\n",
        "The ak users can join the video call either via the CallID and need then to authenticate via email/password, SSO or One-Time-Password (OTP).\n",
        "\n",
        "**Default Mode is email/password**\n",
        "\n",
        "*SSO needs to be activated and configured by ak. Please contact us, if you want to use it*\n",
        "\n",
        "The code outputs the URLs for the stand-alone-video (SAV) for all participants. The SAV can be integrated via iFrame.\n",
        "\n",
        "**Note**: The admin user will be added to the call as participant."
      ],
      "metadata": {
        "id": "5vu3NwTecxIN"
      }
    },
    {
      "cell_type": "markdown",
      "metadata": {
        "id": "wvqk7la1c0XS"
      },
      "source": [
        "\n",
        "### Between one ak user & one TAN user (e.g. doctor to patient)\n",
        "\n",
        "This code shows how to create a videocall between an ak user (e.g. doctor) and a TAN user (e.g. patient).\n",
        "\n",
        "Depending on the role, the account that created the call can also be a participant (e.g. if the account has the role ‘doctor’)"
      ]
    },
    {
      "cell_type": "code",
      "execution_count": null,
      "metadata": {
        "id": "TV-SAjHqdOGx",
        "outputId": "45614d49-566a-4f54-ee3f-a0c6890479f4",
        "colab": {
          "base_uri": "https://localhost:8080/"
        }
      },
      "outputs": [
        {
          "output_type": "stream",
          "name": "stdout",
          "text": [
            "Call\n",
            "{\n",
            "  \"id\": 45982,\n",
            "  \"created_at\": 1729003817,\n",
            "  \"updated_at\": 1729003817,\n",
            "  \"deleted_at\": null,\n",
            "  \"settings\": {\n",
            "    \"queue_type\": \"\",\n",
            "    \"offline\": [],\n",
            "    \"timings\": {\n",
            "      \"lead_time_create\": 0,\n",
            "      \"lead_time_cancel\": 0\n",
            "    }\n",
            "  },\n",
            "  \"parent\": null,\n",
            "  \"children\": null,\n",
            "  \"begin\": null,\n",
            "  \"duration\": 15,\n",
            "  \"room\": \"EtWElFniei4kGXT8U5LCTwmKMnmdVI\",\n",
            "  \"status\": 0,\n",
            "  \"extid\": null,\n",
            "  \"description\": null,\n",
            "  \"extendable\": null,\n",
            "  \"source\": null,\n",
            "  \"users\": [\n",
            "    {\n",
            "      \"id\": 129907,\n",
            "      \"user_name\": \"TAN-User12\",\n",
            "      \"status\": 19,\n",
            "      \"gender\": \"notset\",\n",
            "      \"company_id\": null,\n",
            "      \"company_name\": null,\n",
            "      \"ousubsidiary_id\": null,\n",
            "      \"oulocation_id\": null,\n",
            "      \"department_id\": null,\n",
            "      \"department_name\": null,\n",
            "      \"role_id\": 1,\n",
            "      \"role_name\": \"tanuser\",\n",
            "      \"tan\": \"KBTv-YhyT-vA3d\",\n",
            "      \"tan_valid_until\": 1737331200,\n",
            "      \"log_id\": null,\n",
            "      \"email\": \"tan-user2@arztkonsultation.de\",\n",
            "      \"mobile\": null,\n",
            "      \"consentstatus\": {\n",
            "        \"tan_descriptions_agreed\": false,\n",
            "        \"tan_data_agreed\": false\n",
            "      },\n",
            "      \"has_pki\": false,\n",
            "      \"pki_is_secured\": false,\n",
            "      \"email_bounced\": false\n",
            "    },\n",
            "    {\n",
            "      \"id\": 59288,\n",
            "      \"user_name\": \"Arzt1 Code-Beispiele\",\n",
            "      \"status\": 19,\n",
            "      \"gender\": \"notset\",\n",
            "      \"company_id\": 827,\n",
            "      \"company_name\": \"ak Code Beispiele\",\n",
            "      \"ousubsidiary_id\": null,\n",
            "      \"oulocation_id\": null,\n",
            "      \"department_id\": null,\n",
            "      \"department_name\": null,\n",
            "      \"role_id\": 12,\n",
            "      \"role_name\": \"callee\",\n",
            "      \"tan\": \"DxqJ-9pFi-T79r\",\n",
            "      \"tan_valid_until\": 1737244800,\n",
            "      \"log_id\": null,\n",
            "      \"email\": \"arzt1-ak-code-beispiele@arztkonsultation.de\",\n",
            "      \"mobile\": null,\n",
            "      \"consentstatus\": {\n",
            "        \"tan_descriptions_agreed\": false,\n",
            "        \"tan_data_agreed\": false\n",
            "      },\n",
            "      \"has_pki\": true,\n",
            "      \"pki_is_secured\": false,\n",
            "      \"email_bounced\": false\n",
            "    },\n",
            "    {\n",
            "      \"id\": 58877,\n",
            "      \"user_name\": \"Admin Code Beispiele\",\n",
            "      \"status\": 0,\n",
            "      \"gender\": \"notset\",\n",
            "      \"company_id\": 827,\n",
            "      \"company_name\": \"ak Code Beispiele\",\n",
            "      \"ousubsidiary_id\": null,\n",
            "      \"oulocation_id\": null,\n",
            "      \"department_id\": null,\n",
            "      \"department_name\": null,\n",
            "      \"role_id\": 10,\n",
            "      \"role_name\": \"caller\",\n",
            "      \"tan\": \"\",\n",
            "      \"tan_valid_until\": null,\n",
            "      \"log_id\": null,\n",
            "      \"email\": \"ak-code-beispiele@arztkonsultation.de\",\n",
            "      \"mobile\": null,\n",
            "      \"consentstatus\": {\n",
            "        \"tan_descriptions_agreed\": false,\n",
            "        \"tan_data_agreed\": false\n",
            "      },\n",
            "      \"has_pki\": true,\n",
            "      \"pki_is_secured\": false,\n",
            "      \"email_bounced\": false\n",
            "    }\n",
            "  ],\n",
            "  \"note\": null,\n",
            "  \"notes\": [],\n",
            "  \"documents\": [],\n",
            "  \"tags\": [],\n",
            "  \"channels\": [],\n",
            "  \"is_billable\": null,\n",
            "  \"ou_product_offer\": null\n",
            "}\n",
            "Der Anruf wurde erstellt am: 2024-10-15 14:50:17 UTC\n",
            "Teilnehmer:\n",
            "  - Name: TAN-User12, Rolle: tanuser, E-Mail: tan-user2@arztkonsultation.de\n",
            "  - Link direkt ins Video für TAN-User12: https://video-steffi-test.arztkonsultation.de/video/45982?tan=KBTv-YhyT-vA3d\n",
            "  - Name: Arzt1 Code-Beispiele, Rolle: callee, E-Mail: arzt1-ak-code-beispiele@arztkonsultation.de\n",
            "  - Link direkt ins Video für Arzt1 Code-Beispiele: https://video-steffi-test.arztkonsultation.de/video/45982?tan=DxqJ-9pFi-T79r\n",
            "  - Name: Admin Code Beispiele, Rolle: caller, E-Mail: ak-code-beispiele@arztkonsultation.de\n",
            "  - Link direkt ins Video für Admin Code Beispiele: https://video-steffi-test.arztkonsultation.de/video/45982\n",
            "{'callId': 45982, 'tan': 'KBTv-YhyT-vA3d'}\n"
          ]
        }
      ],
      "source": [
        "import requests\n",
        "import json\n",
        "from datetime import datetime\n",
        "\n",
        "\n",
        "def create_call(token):\n",
        "    call_data = {\n",
        "        \"duration\": 15,\n",
        "        \"tan_username\": \"TAN-User12\",\n",
        "        \"tan_email\": \"TAN-User2@arztkonsultation.de\",\n",
        "        \"tan_data_agreed\": True,\n",
        "        \"call_type\": \"tan\",\n",
        "        \"additional_callees\": [\n",
        "            {\n",
        "                \"user_id\": 59288 #can be omitted if the account for the API call is the ak user who is also to join the call.\n",
        "            }\n",
        "        ]\n",
        "    }\n",
        "\n",
        "    call = fetch('POST', '/api/v2/calls', call_data, token)\n",
        "\n",
        "    call_id = call['data']['id']\n",
        "    tan = next(user['tan'] for user in call['data']['users'] if user['role_name'] == 'tanuser')\n",
        "\n",
        "    print('Call')\n",
        "    print(json.dumps(call['data'], indent=2))\n",
        "\n",
        "    created_at_timestamp = call['data']['created_at']\n",
        "    created_at = datetime.utcfromtimestamp(created_at_timestamp).strftime('%Y-%m-%d %H:%M:%S')\n",
        "\n",
        "    participants = call['data']['users']\n",
        "    print(f\"Der Anruf wurde erstellt am: {created_at} UTC\")\n",
        "    print(\"Teilnehmer:\")\n",
        "    for user in participants:\n",
        "        print(f\"  - Name: {user['user_name']}, Rolle: {user['role_name']}, E-Mail: {user['email']}\")\n",
        "\n",
        "        if user['role_name'] == 'tanuser':\n",
        "            tan = user['tan']\n",
        "            patient_url = f\"https://{hostname}/video/{call_id}?tan={tan}\"\n",
        "            print(f\"  - Link direkt ins Video für {user['user_name']}: {patient_url}\")\n",
        "        else:\n",
        "            if user['tan']:\n",
        "                arzt_url = f\"https://{hostname}/video/{call_id}?tan={user['tan']}\"\n",
        "                print(f\"  - Link direkt ins Video für {user['user_name']}: {arzt_url}\")\n",
        "            else:\n",
        "                arzt_url = f\"https://{hostname}/video/{call_id}\"\n",
        "                print(f\"  - Link direkt ins Video für {user['user_name']}: {arzt_url}\")\n",
        "\n",
        "    return {'callId': call_id, 'tan': tan}\n",
        "\n",
        "# Call the create_call function with the received token\n",
        "result = create_call(token)\n",
        "print(result)\n"
      ]
    },
    {
      "cell_type": "markdown",
      "source": [
        "### Between *one* ak user & *two* TAN users (e.g. doctor to patient)\n",
        "\n",
        "This code shows how to create a videocall between an ak user (e.g. doctor) and two TAN users (e.g. patient and relative).\n",
        "\n",
        "Depending on the role, the account that created the call can also be the participant (e.g. if the account has the role ‘doctor’)"
      ],
      "metadata": {
        "id": "QcAmBK5MJN0Q"
      }
    },
    {
      "cell_type": "code",
      "source": [
        "import requests\n",
        "import json\n",
        "from datetime import datetime\n",
        "\n",
        "\n",
        "def create_call(token):\n",
        "    call_data = {\n",
        "        \"duration\": 15,\n",
        "        \"begin\": 1727884800,\n",
        "        \"tan_username\": \"TAN-User1\",\n",
        "        \"tan_email\": \"TAN-User1@arztkonsultation.de\",\n",
        "        \"tan_data_agreed\": True,\n",
        "        \"call_type\": \"tan\",\n",
        "        \"additional_callees\": [\n",
        "            {\n",
        "                \"name\": \"TAN2\",\n",
        "                \"user_id\": 59288 #can be omitted if the account for the API call is the ak user who is also to join the call.\n",
        "\n",
        "            }\n",
        "        ]\n",
        "    }\n",
        "\n",
        "    call = fetch('POST', '/api/v2/calls', call_data, token)\n",
        "\n",
        "    call_id = call['data']['id']\n",
        "    tan = next(user['tan'] for user in call['data']['users'] if user['role_name'] == 'tanuser')\n",
        "\n",
        "    print('Call')\n",
        "    print(json.dumps(call['data'], indent=2))\n",
        "\n",
        "    created_at_timestamp = call['data']['created_at']\n",
        "    created_at = datetime.utcfromtimestamp(created_at_timestamp).strftime('%Y-%m-%d %H:%M:%S')\n",
        "\n",
        "    participants = call['data']['users']\n",
        "    print(f\"Der Anruf wurde erstellt am: {created_at} UTC\")\n",
        "    print(\"Teilnehmer:\")\n",
        "    for user in participants:\n",
        "        print(f\"  - Name: {user['user_name']}, Rolle: {user['role_name']}, E-Mail: {user['email']}\")\n",
        "\n",
        "        if user['role_name'] == 'tanuser':\n",
        "            tan = user['tan']\n",
        "            patient_url = f\"https://{hostname}.arztkonsultation.de/video/{call_id}?tan={tan}\"\n",
        "            print(f\"  - Link direkt ins Video für {user['user_name']}: {patient_url}\")\n",
        "        else:\n",
        "            if user['tan']:\n",
        "                arzt_url = f\"https://{hostname}.arztkonsultation.de/video/{call_id}?tan={user['tan']}\"\n",
        "                print(f\"  - Link direkt ins Video für {user['user_name']}: {arzt_url}\")\n",
        "            else:\n",
        "                arzt_url = f\"https://{hostname}.arztkonsultation.de/video/{call_id}\"\n",
        "                print(f\"  - Link direkt ins Video für {user['user_name']}: {arzt_url}\")\n",
        "\n",
        "    return {'callId': call_id, 'tan': tan}\n",
        "\n",
        "# Call the create_call function with the received token\n",
        "result = create_call(token)\n",
        "print(result)\n"
      ],
      "metadata": {
        "id": "4Ava2w2OJSPX"
      },
      "execution_count": null,
      "outputs": []
    },
    {
      "cell_type": "markdown",
      "metadata": {
        "id": "tX3m33WXs7_b"
      },
      "source": [
        "### Between *two* ak users and *one* TAN user\n",
        "In the following example, the admin account creates a video call with one TAN user (‘TAN user1’) and two ak users."
      ]
    },
    {
      "cell_type": "code",
      "execution_count": null,
      "metadata": {
        "id": "M6QkVYqJ59rN"
      },
      "outputs": [],
      "source": [
        "import json\n",
        "from datetime import datetime\n",
        "\n",
        "def create_call(token):\n",
        "    call_data = {\n",
        "        \"duration\": 15,\n",
        "        \"begin\": 1727884800,\n",
        "        \"tan_username\": \"TAN-User1\",\n",
        "        \"call_type\": \"tan\",\n",
        "        \"additional_callees\": [\n",
        "            {\n",
        "                \"user_id\": 59288 #If necessary, only a user ID needs to be added if the account for the API call is the ak user who is also to join the call.\n",
        "            },\n",
        "            {\n",
        "                \"user_id\": 59351\n",
        "            }\n",
        "        ]\n",
        "    }\n",
        "\n",
        "    call = fetch('POST', '/api/v2/calls', call_data, token)\n",
        "\n",
        "    call_id = call['data']['id']\n",
        "\n",
        "    print('Call')\n",
        "    print(json.dumps(call['data'], indent=2))\n",
        "\n",
        "    created_at_timestamp = call['data']['created_at']\n",
        "    created_at = datetime.utcfromtimestamp(created_at_timestamp).strftime('%Y-%m-%d %H:%M:%S')\n",
        "\n",
        "    participants = call['data']['users']\n",
        "    print(f\"Der Anruf wurde erstellt am: {created_at} UTC\")\n",
        "    print(\"Teilnehmer:\")\n",
        "    for user in participants:\n",
        "        print(f\"  - Name: {user['user_name']}, Rolle: {user['role_name']}, E-Mail: {user['email']}\")\n",
        "        if user['role_name'] == 'tanuser':\n",
        "            tan = user['tan']\n",
        "            patient_url = f\"https://{hostname}/video/{call['data']['id']}?tan={tan}\"\n",
        "            print(f\"  - Link direkt ins Video für {user['user_name']}: {patient_url}\")\n",
        "            display(IFrame(patient_url, width=800, height=600))\n",
        "        elif user['role_name'] == 'callee':\n",
        "            arzt_url = f\"https://{hostname}/video/{call['data']['id']}\"\n",
        "            print(f\"  - Link direkt ins Video für {user['user_name']}: {arzt_url}\")\n",
        "\n",
        "\n",
        "# Call the create_call function with the received token\n",
        "create_call(token)\n"
      ]
    },
    {
      "cell_type": "markdown",
      "source": [
        "### Between *two* ak users (e.g. doctor consultation)\n",
        "In the following example, the admin account creates a video call between two ak users.\n",
        "\n",
        "***However, a TAN user must be added so that the ak users are assigned to the call and can join the call.***\n",
        "\n",
        "The code outputs the URLs for all participants.\n"
      ],
      "metadata": {
        "id": "Ia5at9SXIyVm"
      }
    },
    {
      "cell_type": "code",
      "source": [
        "import json\n",
        "from datetime import datetime\n",
        "\n",
        "def create_call(token):\n",
        "    call_data = {\n",
        "        \"duration\": 15,\n",
        "        \"begin\": 1727884800,\n",
        "        \"call_type\": \"tan\",\n",
        "        \"additional_callees\": [\n",
        "            {\n",
        "                \"user_id\": 59288\n",
        "            },\n",
        "            {\n",
        "                \"user_id\": 59351\n",
        "            }\n",
        "        ]\n",
        "    }\n",
        "\n",
        "    call = fetch('POST', '/api/v2/calls', call_data, token)\n",
        "\n",
        "    call_id = call['data']['id']\n",
        "\n",
        "    print('Call')\n",
        "    print(json.dumps(call['data'], indent=2))\n",
        "\n",
        "    created_at_timestamp = call['data']['created_at']\n",
        "    created_at = datetime.utcfromtimestamp(created_at_timestamp).strftime('%Y-%m-%d %H:%M:%S')\n",
        "\n",
        "    participants = call['data']['users']\n",
        "    print(f\"Der Anruf wurde erstellt am: {created_at} UTC\")\n",
        "    print(\"Teilnehmer:\")\n",
        "    for user in participants:\n",
        "        print(f\"  - Name: {user['user_name']}, Rolle: {user['role_name']}, E-Mail: {user['email']}\")\n",
        "        if user['role_name'] == 'tanuser':\n",
        "            tan = user['tan']\n",
        "            patient_url = f\"https://{hostname}/video/{call['data']['id']}?tan={tan}\"\n",
        "            print(f\"  - Link direkt ins Video für {user['user_name']}: {patient_url}\")\n",
        "        elif user['role_name'] == 'callee':\n",
        "            arzt_url = f\"https://{hostname}/video/{call['data']['id']}\"\n",
        "            print(f\"  - Link direkt ins Video für {user['user_name']}: {arzt_url}\")\n",
        "\n",
        "\n",
        "# Call the create_call function with the received token\n",
        "create_call(token)\n"
      ],
      "metadata": {
        "id": "RJLVunc2e0vO"
      },
      "execution_count": null,
      "outputs": []
    },
    {
      "cell_type": "markdown",
      "source": [
        "## Auth via One-Time-Password (OTP)\n",
        "\n",
        "This example creates a call and also creates a OTP for the ak user. The OTP is valid fdor only 60s and needs therefore be created everytime before the user wants to join the call. The OTP is added via a query paramter in the URL.\n",
        "\n",
        "The code performs the following tasks:\n",
        "\n",
        "- Authenticates the user using email and password to obtain a Bearer token.\n",
        "- Creates a video call with specified participants and duration.\n",
        "- Generates an OTP (One-Time Password) for a specific user after the call is created.\n",
        "- Formats and displays participant information and links to join the video call, including a link for the user with OTP."
      ],
      "metadata": {
        "id": "-KeytSJpqitC"
      }
    },
    {
      "cell_type": "code",
      "source": [
        "import os\n",
        "import requests\n",
        "import json\n",
        "import base64\n",
        "from datetime import datetime\n",
        "from configparser import ConfigParser\n",
        "from google.colab import drive\n",
        "\n",
        "# Mount Google Drive\n",
        "drive.mount(\"/content/drive\")\n",
        "\n",
        "# The path to the config.ini file\n",
        "config_file_path = \"/content/drive/MyDrive/Colab Notebooks/config.ini\"\n",
        "\n",
        "# Ensure that the file exists\n",
        "if not os.path.exists(config_file_path):\n",
        "    raise FileNotFoundError(f\"The file {config_file_path} was not found\")\n",
        "\n",
        "# Initialise ConfigParser and read the file\n",
        "config = ConfigParser()\n",
        "config.read(config_file_path)\n",
        "\n",
        "# Print available sections for debugging\n",
        "print(\"Available sections:\", config.sections())\n",
        "\n",
        "# Read access data without printing credentials\n",
        "email = config[\"credentials\"][\"email\"]\n",
        "password = config[\"credentials\"][\"password\"]\n",
        "client_id = config[\"client_credentials\"][\"client_id\"]\n",
        "client_pw = config[\"client_credentials\"][\"client_password\"]\n",
        "\n",
        "# Specific email for OTP generation\n",
        "otp_email = \"arzt1-ak-code-beispiele@arztkonsultation.de\"\n",
        "\n",
        "def authenticate(email, password):\n",
        "    url = \"https://app-sandbox.arztkonsultation.de/api/v2/auth\"\n",
        "    data = {\n",
        "        \"email\": email,\n",
        "        \"password\": password\n",
        "    }\n",
        "\n",
        "    response = requests.post(url, json=data)\n",
        "    try:\n",
        "        response.raise_for_status()  # Raises an error for bad responses\n",
        "        return response.json()['access_token']\n",
        "    except KeyError:\n",
        "        print(\"Error: 'access_token' key not found in the response.\")\n",
        "        print(\"Response content:\", response.json())  # Print the full response for debugging\n",
        "        raise  # Reraise the exception for further handling\n",
        "\n",
        "def client_authenticate(client_id, client_pw):  # Updated variable name\n",
        "    url = \"https://app-sandbox.arztkonsultation.de/api/v2/client\"\n",
        "    data = {\n",
        "        \"client_id\": client_id,\n",
        "        \"pw\": client_pw\n",
        "    }\n",
        "\n",
        "    response = requests.post(url, json=data)\n",
        "    try:\n",
        "        response.raise_for_status()  # Raises an error for bad responses\n",
        "        return response.json()['token']  # Assuming the token is in this field\n",
        "    except KeyError:\n",
        "        print(\"Error: 'token' key not found in the response.\")\n",
        "        print(\"Response content:\", response.json())  # Print the full response for debugging\n",
        "        raise  # Reraise the exception for further handling\n",
        "    except requests.HTTPError as e:\n",
        "        print(\"HTTP Error:\", e.response.status_code)\n",
        "        print(\"Response content:\", e.response.json())  # Print the full response for debugging\n",
        "        raise  # Reraise the exception for further handling\n",
        "\n",
        "def fetch(method, endpoint, data, token):\n",
        "    headers = {\n",
        "        'Authorization': f'Bearer {token}',\n",
        "        'Content-Type': 'application/json'\n",
        "    }\n",
        "\n",
        "    url = f\"https://app-sandbox.arztkonsultation.de{endpoint}\"\n",
        "    response = requests.request(method, url, headers=headers, json=data)\n",
        "    response.raise_for_status()  # Raises an error for bad responses\n",
        "    return response.json()\n",
        "\n",
        "def create_call(token):\n",
        "    call_data = {\n",
        "        \"duration\": 15,\n",
        "        \"begin\": 1727884800,\n",
        "        \"tan_username\": \"TAN-User1\",\n",
        "        \"tan_email\": \"TAN-User1@arztkonsultation.de\",\n",
        "        \"tan_data_agreed\": True,\n",
        "        \"call_type\": \"tan\",\n",
        "        \"additional_callees\": [\n",
        "            {\n",
        "                \"user_id\": 59288  # can be omitted if the account for the API call is the ak user who is also to join the call.\n",
        "            }\n",
        "        ]\n",
        "    }\n",
        "\n",
        "    # Create the call\n",
        "    call = fetch('POST', '/api/v2/calls', call_data, token)\n",
        "\n",
        "    call_id = call['data']['id']\n",
        "    tan = next(user['tan'] for user in call['data']['users'] if user['role_name'] == 'tanuser')\n",
        "\n",
        "    print('Call created successfully.')\n",
        "\n",
        "    participants = call['data']['users']\n",
        "    print(\"\\nTeilnehmer:\")\n",
        "    for user in participants:\n",
        "        print(f\"  - Name: {user['user_name']}, Rolle: {user['role_name']}, E-Mail: {user['email']}\")\n",
        "\n",
        "        if user['role_name'] == 'tanuser':\n",
        "            patient_url = f\"https://app-sandbox.arztkonsultation.de/video/{call_id}?tan={tan}\"\n",
        "            print(f\"    - Link direkt ins Video für {user['user_name']}: {patient_url}\")\n",
        "        elif user['role_name'] == 'callee':\n",
        "            # Store participant details for OTP generation\n",
        "            callee_user = user\n",
        "\n",
        "    # Authenticate to the client API for OTP generation\n",
        "    scoped_token_data = {\n",
        "        \"email\": otp_email,  # Use the specific user's email here\n",
        "        \"scope_type\": \"call\",\n",
        "        \"scope_id\": call_id  # Use the created call ID here\n",
        "    }\n",
        "\n",
        "    client_auth_token = client_authenticate(client_id, client_pw)  # Use Client ID and pw\n",
        "    otp_response = fetch('POST', '/api/ext/createScopedToken', scoped_token_data, client_auth_token)  # Updated to correct endpoint\n",
        "\n",
        "    # Debugging: Print the complete response from the OTP API\n",
        "    print(\"OTP API Response:\", otp_response)\n",
        "\n",
        "    # Check the structure of the response for the token\n",
        "    if 'token' in otp_response:  # Adjusted to check for the token directly\n",
        "        otp = otp_response['token']  # Assuming the token is returned in this field\n",
        "    else:\n",
        "        print(\"Error: Expected 'token' key not found in the response.\")\n",
        "        raise ValueError(\"Invalid response structure\")\n",
        "\n",
        "    # Base64 encode the OTP\n",
        "    base64_otp = base64.b64encode(otp.encode()).decode()\n",
        "\n",
        "    # Construct the URL with the base64 encoded OTP\n",
        "    video_url = f\"https://app-sandbox.arztkonsultation.de/video/{call_id}?tid={base64_otp}\"\n",
        "    print(f\"  - Link mit OTP direkt ins Video für Arzt1 Code-Beispiele: {video_url}\")\n",
        "\n",
        "# Authenticate to get the Bearer token\n",
        "bearer_token = authenticate(email, password)\n",
        "\n",
        "# Call the create_call function with the received Bearer token\n",
        "create_call(bearer_token)\n"
      ],
      "metadata": {
        "id": "N6TfawWVqoPk"
      },
      "execution_count": null,
      "outputs": []
    },
    {
      "cell_type": "markdown",
      "source": [
        "## List Calls"
      ],
      "metadata": {
        "id": "WtmLene6Kf2I"
      }
    },
    {
      "cell_type": "code",
      "source": [
        "import pandas as pd\n",
        "from datetime import datetime, timezone\n",
        "\n",
        "# Function for retrieving all past calls with dynamic pagination\n",
        "def getPastCalls(token):\n",
        "    page = 1\n",
        "    all_calls = []\n",
        "    per_page = 500\n",
        "\n",
        "    current_time = datetime.now(timezone.utc).timestamp()  # Current time in UTC timestamp\n",
        "    total_pages = None  # Initialize total_pages to None\n",
        "\n",
        "    while True:\n",
        "        # API call to fetch calls with pagination\n",
        "        calls_response = fetch('GET', f'/api/v2/calls?per_page={per_page}&page={page}', token=token)\n",
        "\n",
        "        if calls_response is None or 'data' not in calls_response:\n",
        "            print(\"Error: No valid API response received\")\n",
        "            break\n",
        "\n",
        "        calls = calls_response.get('data', [])\n",
        "\n",
        "        # Process each call entry\n",
        "        for call in calls:\n",
        "            # Filter only calls that have a \"begin\" timestamp in the past\n",
        "            if call.get('begin') and int(call['begin']) < current_time:\n",
        "                created_at = datetime.utcfromtimestamp(int(call['created_at'])).strftime('%Y-%m-%d %H:%M:%S')\n",
        "                updated_at = datetime.utcfromtimestamp(int(call['updated_at'])).strftime('%Y-%m-%d %H:%M:%S')\n",
        "                begin = datetime.utcfromtimestamp(int(call['begin'])).strftime('%Y-%m-%d %H:%M:%S') if call.get('begin') else None\n",
        "\n",
        "                # Handle None duration values by setting them to 0\n",
        "                duration = int(call.get('duration', 0) or 0)\n",
        "\n",
        "                # Process each user in the call (loop through all users)\n",
        "                for user_info in call.get('users', []):\n",
        "                      all_calls.append({\n",
        "                          'call_id': call['id'],\n",
        "                          'created_at': created_at,\n",
        "                          'updated_at': updated_at,\n",
        "                          'user_name': user_info.get('user_name', ''),\n",
        "                          'begin': begin,\n",
        "                          'duration': duration,\n",
        "                          'status': call.get('status', ''),\n",
        "                          'company_id': user_info.get('company_id', ''),\n",
        "                          'tan': user_info.get('tan', ''),\n",
        "                          'oulocation_id': user_info.get('oulocation_id', ''),\n",
        "                          'department_name': user_info.get('department_name', ''),\n",
        "                          'user_id': user_info.get('id', '')\n",
        "                      })\n",
        "\n",
        "\n",
        "        # Fetch the total number of pages from the API response metadata\n",
        "        if total_pages is None and 'meta' in calls_response:\n",
        "            total_pages = calls_response['meta'].get('last_page', 1)\n",
        "\n",
        "        # Check if we've processed all pages\n",
        "        if page >= total_pages:\n",
        "            break\n",
        "\n",
        "        # Go to the next page\n",
        "        print(f\"Fetched page {page}/{total_pages}\")\n",
        "        page += 1\n",
        "\n",
        "    return all_calls\n",
        "\n",
        "# Main function to retrieve past calls and display them in a table\n",
        "def main():\n",
        "    token = login()\n",
        "    if not token:\n",
        "        print(\"Error: No valid token received\")\n",
        "        return\n",
        "\n",
        "    # Get all past calls for all users\n",
        "    past_calls = getPastCalls(token)\n",
        "\n",
        "    # Load calls into a DataFrame\n",
        "    df_calls = pd.DataFrame(past_calls)\n",
        "\n",
        "    # Display the DataFrame as a table\n",
        "    from IPython.display import display\n",
        "    display(df_calls)\n",
        "\n",
        "# Execute the main function\n",
        "main()\n"
      ],
      "metadata": {
        "id": "Ep1ChnuBKiUT"
      },
      "execution_count": null,
      "outputs": []
    },
    {
      "cell_type": "markdown",
      "source": [
        "## Delete Call\n",
        "\n",
        "A call can only be deleted if it has not yet been executed"
      ],
      "metadata": {
        "id": "yiWlReox1hGB"
      }
    },
    {
      "cell_type": "code",
      "source": [
        "def delete_call(call_id, token):\n",
        "    path = f'/api/v2/calls/{call_id}'\n",
        "    url = f'https://{hostname}{path}'\n",
        "    headers = {\n",
        "        'Authorization': f'Bearer {token}',\n",
        "        'Content-Type': 'application/json'\n",
        "    }\n",
        "\n",
        "    response = requests.delete(url, headers=headers)\n",
        "\n",
        "    if response.status_code == 204:\n",
        "        print(f\"Der Anruf mit der ID {call_id} wurde erfolgreich gelöscht.\")\n",
        "    else:\n",
        "        print(f\"Fehler beim Löschen des Anrufs: {response.status_code}\")\n",
        "        print(response.text)\n",
        "        raise Exception(f'Fehler beim Löschen des Anrufs: {response.status_code} {response.text}')\n",
        "\n",
        "# Call the delete_call function with a call ID and token\n",
        "call_id = '23666'  # Replace this with the desired call ID\n",
        "delete_call(call_id, token)"
      ],
      "metadata": {
        "id": "PAlXvnGW1n2Q"
      },
      "execution_count": null,
      "outputs": []
    },
    {
      "cell_type": "markdown",
      "metadata": {
        "id": "lqViBIq6CYIO"
      },
      "source": [
        "# Calllogs\n",
        "\n",
        "Link to API-Doc: https://arztkonsultation.de/wp-content/uploads/2024/10/2024-10-01-ak-APIv2-Dokumentation.html#tag/Calllogs"
      ]
    },
    {
      "cell_type": "markdown",
      "metadata": {
        "id": "z0r5-vjTVFTd"
      },
      "source": [
        "## Retrieve call logs\n",
        "\n",
        "This example retrieves the call logs exclusively via the API endpoint ‘/api/v2/calllogs’. The users are retrieved in advance via ‘/api/v2/users’.\n"
      ]
    },
    {
      "cell_type": "code",
      "execution_count": null,
      "metadata": {
        "id": "5Tbm9fOQVMJO"
      },
      "outputs": [],
      "source": [
        "def get_call_logs(token):\n",
        "    # Retrieve call logs\n",
        "    return fetch('GET', '/api/v2/calllogs', token=token)\n",
        "\n",
        "# Main execution\n",
        "try:\n",
        "    token = login()\n",
        "    call_logs = get_call_logs(token)\n",
        "    print(call_logs)\n",
        "except Exception as e:\n",
        "    print(f'An error occurred: {e}')"
      ]
    },
    {
      "cell_type": "markdown",
      "source": [
        "## Extended call logs\n",
        "\n",
        "This example retrieves the call logs via the API endpoint ‘/api/v2/calllogs’. In addition, further information about the users and calls is retrieved via ‘/api/v2/users’ and ‘/api/v2/calls’ and collated in a table."
      ],
      "metadata": {
        "id": "AyZ5pB27uM8m"
      }
    },
    {
      "cell_type": "code",
      "source": [
        "import pandas as pd\n",
        "from datetime import datetime, timezone\n",
        "\n",
        "# Function for retrieving all past calls with dynamic pagination\n",
        "def getPastCalls(token):\n",
        "    page = 1\n",
        "    all_calls = []\n",
        "    per_page = 500\n",
        "\n",
        "    current_time = datetime.now(timezone.utc).timestamp()  # Current time in UTC timestamp\n",
        "    total_pages = None  # Initialize total_pages to None\n",
        "\n",
        "    while True:\n",
        "        # API call to fetch calls with pagination\n",
        "        calls_response = fetch('GET', f'/api/v2/calls?per_page={per_page}&page={page}', token=token)\n",
        "\n",
        "        if calls_response is None or 'data' not in calls_response:\n",
        "            print(\"Error: No valid API response received\")\n",
        "            break\n",
        "\n",
        "        calls = calls_response.get('data', [])\n",
        "\n",
        "        # Process each call entry\n",
        "        for call in calls:\n",
        "            # Filter only calls that have a \"begin\" timestamp in the past\n",
        "            if call.get('begin') and int(call['begin']) < current_time:\n",
        "                created_at = datetime.utcfromtimestamp(int(call['created_at'])).strftime('%Y-%m-%d %H:%M:%S')\n",
        "                updated_at = datetime.utcfromtimestamp(int(call['updated_at'])).strftime('%Y-%m-%d %H:%M:%S')\n",
        "                begin = datetime.utcfromtimestamp(int(call['begin'])).strftime('%Y-%m-%d %H:%M:%S') if call.get('begin') else None\n",
        "\n",
        "                # Handle None duration values by setting them to 0\n",
        "                duration = int(call.get('duration', 0) or 0)\n",
        "\n",
        "                # Fetch the 'end' time for this call from the /calllogs endpoint\n",
        "                calllog_response = fetch('GET', f'/api/v2/calllogs?call_id={call[\"id\"]}', token=token)\n",
        "\n",
        "                # Check if calllog_response is valid and has data\n",
        "                if calllog_response and 'data' in calllog_response and calllog_response['data']:\n",
        "                    calllog = calllog_response['data'][0]  # Get the first entry\n",
        "                    end = datetime.utcfromtimestamp(int(calllog.get('end', 0))).strftime('%Y-%m-%d %H:%M:%S') if calllog.get('end') else None\n",
        "                else:\n",
        "                    end = None  # No call log entry found\n",
        "\n",
        "                # Process each user in the call (loop through all users)\n",
        "                for user_info in call.get('users', []):\n",
        "                    all_calls.append({\n",
        "                        'call_id': call['id'],\n",
        "                        'created_at': created_at,\n",
        "                        'updated_at': updated_at,\n",
        "                        'user_name': user_info.get('user_name', ''),\n",
        "                        'begin': begin,\n",
        "                        'end': end,\n",
        "                        'duration': duration,\n",
        "                        'status': call.get('status', ''),\n",
        "                        'company_id': user_info.get('company_id', ''),\n",
        "                        'tan': user_info.get('tan', ''),\n",
        "                        'oulocation_id': user_info.get('oulocation_id', ''),\n",
        "                        'department_name': user_info.get('department_name', ''),\n",
        "                        'user_id': user_info.get('id', '')\n",
        "                    })\n",
        "\n",
        "        # Fetch the total number of pages from the API response metadata\n",
        "        if total_pages is None and 'meta' in calls_response:\n",
        "            total_pages = calls_response['meta'].get('last_page', 1)\n",
        "\n",
        "        # Check if we've processed all pages\n",
        "        if page >= total_pages:\n",
        "            break\n",
        "\n",
        "        # Go to the next page\n",
        "        print(f\"Fetched page {page}/{total_pages}\")\n",
        "        page += 1\n",
        "\n",
        "    return all_calls\n",
        "\n",
        "# Main function to retrieve past calls and display them in a table\n",
        "def main():\n",
        "    token = login()\n",
        "    if not token:\n",
        "        print(\"Error: No valid token received\")\n",
        "        return\n",
        "\n",
        "    # Get all past calls for all users\n",
        "    past_calls = getPastCalls(token)\n",
        "\n",
        "    # Load calls into a DataFrame\n",
        "    df_calls = pd.DataFrame(past_calls)\n",
        "\n",
        "    # Display the DataFrame as a table\n",
        "    from IPython.display import display\n",
        "    display(df_calls)\n",
        "\n",
        "# Execute the main function\n",
        "main()\n"
      ],
      "metadata": {
        "id": "sPA_6FUYuRMr"
      },
      "execution_count": null,
      "outputs": []
    },
    {
      "cell_type": "markdown",
      "source": [
        "# iFrame\n",
        "\n",
        "This example shows how the video can be integrated via iFrame.\n",
        "\n",
        "You can find integration instructions at the following link: https://arztkonsultation.de/wp-content/uploads/2024/05/2024-05-15-ak-iFrame-Integrationsanleitung.pdf.pdf"
      ],
      "metadata": {
        "id": "L-Un5q51RXOC"
      }
    },
    {
      "cell_type": "markdown",
      "source": [
        "## Docs via CallID\n"
      ],
      "metadata": {
        "id": "FLZSRgGlUsLh"
      }
    },
    {
      "cell_type": "code",
      "source": [
        "from IPython.display import IFrame\n",
        "\n",
        "url = \"https://app-sandbox.arztkonsultation.de/video/24761\n",
        "IFrame(url, width=800, height=600)"
      ],
      "metadata": {
        "id": "xeNejzKCUued"
      },
      "execution_count": null,
      "outputs": []
    },
    {
      "cell_type": "markdown",
      "source": [
        "## TAN user without waiting area"
      ],
      "metadata": {
        "id": "uiPROiijUNNj"
      }
    },
    {
      "cell_type": "code",
      "source": [
        "from IPython.display import IFrame\n",
        "\n",
        "url = \"https://app-sandbox.arztkonsultation.de/video/24761?tan=FtUD-tu5e-ZsBA\"\n",
        "IFrame(url, width=800, height=600)\n"
      ],
      "metadata": {
        "id": "5GHTE23bRo9P"
      },
      "execution_count": null,
      "outputs": []
    },
    {
      "cell_type": "markdown",
      "source": [
        "## TAN user with waiting area"
      ],
      "metadata": {
        "id": "CJ6PhEZSUkmC"
      }
    },
    {
      "cell_type": "code",
      "source": [
        "from IPython.display import IFrame\n",
        "\n",
        "url = \"https://app-sandbox.arztkonsultation.de/video/login?tan=FtUD-tu5e-ZsBA\"\n",
        "IFrame(url, width=800, height=600)"
      ],
      "metadata": {
        "id": "1KyJLHrXUiUA"
      },
      "execution_count": null,
      "outputs": []
    }
  ],
  "metadata": {
    "colab": {
      "provenance": [],
      "toc_visible": true
    },
    "kernelspec": {
      "display_name": "Python 3",
      "name": "python3"
    },
    "language_info": {
      "name": "python"
    }
  },
  "nbformat": 4,
  "nbformat_minor": 0
}